{
 "cells": [
  {
   "cell_type": "code",
   "execution_count": 1,
   "id": "initial_id",
   "metadata": {
    "collapsed": true,
    "ExecuteTime": {
     "end_time": "2024-04-01T04:05:50.516779Z",
     "start_time": "2024-04-01T04:05:50.477782Z"
    }
   },
   "outputs": [
    {
     "name": "stderr",
     "output_type": "stream",
     "text": [
      "'ls' is not recognized as an internal or external command,\n",
      "operable program or batch file.\n"
     ]
    }
   ],
   "source": [
    "!ls data"
   ]
  },
  {
   "cell_type": "code",
   "outputs": [],
   "source": [
    "f = open(\"data/fruit_values.csv\", \"r\")\n",
    "alldata = []\n",
    "for line in f.readlines():\n",
    "    alldata.append([float(x) for x in line.split(sep=\",\")])\n",
    "f.close()"
   ],
   "metadata": {
    "collapsed": false,
    "ExecuteTime": {
     "end_time": "2024-04-01T04:05:50.532785Z",
     "start_time": "2024-04-01T04:05:50.517785Z"
    }
   },
   "id": "db045dfba8225a80",
   "execution_count": 2
  },
  {
   "cell_type": "code",
   "outputs": [
    {
     "ename": "TypeError",
     "evalue": "scatter() missing 2 required positional arguments: 'x' and 'y'",
     "output_type": "error",
     "traceback": [
      "\u001B[1;31m---------------------------------------------------------------------------\u001B[0m",
      "\u001B[1;31mTypeError\u001B[0m                                 Traceback (most recent call last)",
      "Cell \u001B[1;32mIn[5], line 2\u001B[0m\n\u001B[0;32m      1\u001B[0m \u001B[38;5;28;01mfrom\u001B[39;00m \u001B[38;5;21;01mmatplotlib\u001B[39;00m \u001B[38;5;28;01mimport\u001B[39;00m pyplot \u001B[38;5;28;01mas\u001B[39;00m plt\n\u001B[1;32m----> 2\u001B[0m \u001B[43mplt\u001B[49m\u001B[38;5;241;43m.\u001B[39;49m\u001B[43mscatter\u001B[49m\u001B[43m(\u001B[49m\u001B[43m)\u001B[49m\n",
      "\u001B[1;31mTypeError\u001B[0m: scatter() missing 2 required positional arguments: 'x' and 'y'"
     ]
    }
   ],
   "source": [
    "from matplotlib import pyplot as plt\n",
    "plt.scatter()"
   ],
   "metadata": {
    "collapsed": false,
    "ExecuteTime": {
     "end_time": "2024-04-01T04:07:29.704701Z",
     "start_time": "2024-04-01T04:07:29.148701Z"
    }
   },
   "id": "acad5520e6035b91",
   "execution_count": 5
  },
  {
   "cell_type": "code",
   "outputs": [
    {
     "data": {
      "text/plain": "(30, 6)"
     },
     "execution_count": 8,
     "metadata": {},
     "output_type": "execute_result"
    }
   ],
   "source": [
    "import numpy as np\n",
    "alldata = np.array(alldata)\n",
    "X = alldata\n",
    "alldata.shape"
   ],
   "metadata": {
    "collapsed": false,
    "ExecuteTime": {
     "end_time": "2024-04-01T04:11:32.170727Z",
     "start_time": "2024-04-01T04:11:32.165726Z"
    }
   },
   "id": "8271628b5a37f0b0",
   "execution_count": 8
  },
  {
   "cell_type": "code",
   "outputs": [
    {
     "data": {
      "text/plain": "<matplotlib.collections.PathCollection at 0x20cb9bf6230>"
     },
     "execution_count": 9,
     "metadata": {},
     "output_type": "execute_result"
    },
    {
     "data": {
      "text/plain": "<Figure size 640x480 with 1 Axes>",
      "image/png": "[encoded data removed]"
     },
     "metadata": {},
     "output_type": "display_data"
    }
   ],
   "source": [
    "from matplotlib import pyplot as plt\n",
    "plt.scatter(X[:,0], X[:,1], c=\"b\", marker=\"<\")"
   ],
   "metadata": {
    "collapsed": false,
    "ExecuteTime": {
     "end_time": "2024-04-01T04:11:33.714725Z",
     "start_time": "2024-04-01T04:11:33.585727Z"
    }
   },
   "id": "9ca48e56f85a480e",
   "execution_count": 9
  },
  {
   "cell_type": "code",
   "outputs": [
    {
     "name": "stdout",
     "output_type": "stream",
     "text": [
      "[[ 95.90375566  95.05307387  23.85666305 133.14929638  28.52508328\n",
      "  118.84629966]\n",
      " [110.53208139  89.59757945  28.71339184 130.65223662  31.44193262\n",
      "  122.60148684]]\n"
     ]
    },
    {
     "data": {
      "text/plain": "<matplotlib.collections.PathCollection at 0x20cb9dcfc40>"
     },
     "execution_count": 25,
     "metadata": {},
     "output_type": "execute_result"
    },
    {
     "data": {
      "text/plain": "<Figure size 300x200 with 1 Axes>",
      "image/png": "[encoded data removed]"
     },
     "metadata": {},
     "output_type": "display_data"
    }
   ],
   "source": [
    "i,j = np.random.randint(30, size=(2))\n",
    "c=X[[i,j],:]\n",
    "\n",
    "plt.figure(figsize=(3,2))\n",
    "print(c)\n",
    "\n",
    "plt.scatter(X[:,0],X[:,1], c='b', marker = '>')\n",
    "plt.scatter(c[1,0], c[1,1], c='r')\n",
    "plt.scatter(c[1,0], c[1,1], c='g')"
   ],
   "metadata": {
    "collapsed": false,
    "ExecuteTime": {
     "end_time": "2024-04-01T04:24:43.160039Z",
     "start_time": "2024-04-01T04:24:43.093039Z"
    }
   },
   "id": "d34dc8a963e0ca97",
   "execution_count": 25
  },
  {
   "cell_type": "code",
   "outputs": [],
   "source": [
    "convergence = False"
   ],
   "metadata": {
    "collapsed": false,
    "ExecuteTime": {
     "end_time": "2024-04-01T04:18:39.990458Z",
     "start_time": "2024-04-01T04:18:39.974414Z"
    }
   },
   "id": "d1b382b24c0b2576",
   "execution_count": 13
  },
  {
   "cell_type": "code",
   "outputs": [],
   "source": [
    "def distance(x,y):\n",
    "    d = np.sqrt(np.sum((x-y)**2))\n",
    "    return d"
   ],
   "metadata": {
    "collapsed": false,
    "ExecuteTime": {
     "end_time": "2024-04-01T04:19:39.489631Z",
     "start_time": "2024-04-01T04:19:39.478671Z"
    }
   },
   "id": "c4bd6d5367cb9ff5",
   "execution_count": 15
  },
  {
   "cell_type": "code",
   "outputs": [
    {
     "data": {
      "text/plain": "17.209965013791525"
     },
     "execution_count": 26,
     "metadata": {},
     "output_type": "execute_result"
    }
   ],
   "source": [
    "distance(c[0],c[1])"
   ],
   "metadata": {
    "collapsed": false,
    "ExecuteTime": {
     "end_time": "2024-04-01T04:27:01.344333Z",
     "start_time": "2024-04-01T04:27:01.329333Z"
    }
   },
   "id": "5c0f446e640a1641",
   "execution_count": 26
  },
  {
   "cell_type": "code",
   "outputs": [
    {
     "name": "stdout",
     "output_type": "stream",
     "text": [
      "[0. 0. 0. 0. 0. 0. 0. 0. 0. 0. 0. 0. 0. 0. 0. 0. 0. 0. 0. 0. 0. 0. 0. 0.\n",
      " 0. 0. 0. 0. 0. 0.]\n"
     ]
    }
   ],
   "source": [
    "labels = np.zeros((30,))\n",
    "print(labels)"
   ],
   "metadata": {
    "collapsed": false,
    "ExecuteTime": {
     "end_time": "2024-04-01T04:28:15.285384Z",
     "start_time": "2024-04-01T04:28:15.273385Z"
    }
   },
   "id": "c2ffbac3c4bd683f",
   "execution_count": 27
  },
  {
   "cell_type": "code",
   "outputs": [
    {
     "name": "stdout",
     "output_type": "stream",
     "text": [
      "[1. 1. 1. 1. 0. 1. 1. 1. 1. 1. 0. 1. 1. 1. 1. 1. 1. 1. 1. 1. 1. 0. 0. 1.\n",
      " 1. 0. 1. 0. 1. 1.]\n"
     ]
    }
   ],
   "source": [
    "dist1 = [distance(data_point,c[0]) for data_point in X]\n",
    "dist2 = [distance(data_point,c[1]) for data_point in X]\n",
    "\n",
    "for i in range(30):\n",
    "    labels[i] = 1 if dist1[i] > dist2[i] else 0\n",
    "print(labels)"
   ],
   "metadata": {
    "collapsed": false,
    "ExecuteTime": {
     "end_time": "2024-04-01T04:43:23.427679Z",
     "start_time": "2024-04-01T04:43:23.420679Z"
    }
   },
   "id": "a0c50db84da56791",
   "execution_count": 33
  },
  {
   "cell_type": "code",
   "outputs": [
    {
     "data": {
      "text/plain": "Text(110.53208138968961, 89.59757944969375, 'Old Centroid_1')"
     },
     "execution_count": 36,
     "metadata": {},
     "output_type": "execute_result"
    },
    {
     "data": {
      "text/plain": "<Figure size 640x480 with 1 Axes>",
      "image/png": "[encoded data removed]"
     },
     "metadata": {},
     "output_type": "display_data"
    }
   ],
   "source": [
    "for i in range(30):\n",
    "    color = \"g\" if labels[0] == 1 else \"r\"\n",
    "    plt.scatter(X[i,0], X[i,1], c = color, marker ='>')\n",
    "plt.scatter(c[0,0],c[1,0], c='r', label=\"First Centroid\")\n",
    "plt.scatter(c[1,0], c[1,1], c='g', label = \"Second Centroid\")\n",
    "\n",
    "new_c = np.array([np.mean(X[labels == i], axis=0) for i in [0, 1]])\n",
    "\n",
    "plt.text(c[0,0], c[0,1], \"Old Centroid_0\", c =\"r\")\n",
    "plt.text(c[1,0], c[1,1], \"Old Centroid_1\", c=\"g\")\n",
    "    "
   ],
   "metadata": {
    "collapsed": false,
    "ExecuteTime": {
     "end_time": "2024-04-01T04:52:41.020852Z",
     "start_time": "2024-04-01T04:52:40.642837Z"
    }
   },
   "id": "6da81505d96c58f5",
   "execution_count": 36
  },
  {
   "cell_type": "code",
   "outputs": [],
   "source": [
    "new_c = np.array([np.mean(X[labels==i], axis=0) for i in [0,1]])"
   ],
   "metadata": {
    "collapsed": false
   },
   "id": "196e415e0f44d739"
  }
 ],
 "metadata": {
  "kernelspec": {
   "display_name": "Python 3",
   "language": "python",
   "name": "python3"
  },
  "language_info": {
   "codemirror_mode": {
    "name": "ipython",
    "version": 2
   },
   "file_extension": ".py",
   "mimetype": "text/x-python",
   "name": "python",
   "nbconvert_exporter": "python",
   "pygments_lexer": "ipython2",
   "version": "2.7.6"
  }
 },
 "nbformat": 4,
 "nbformat_minor": 5
}
